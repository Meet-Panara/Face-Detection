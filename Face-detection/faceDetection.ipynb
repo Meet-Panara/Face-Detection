{
 "cells": [
  {
   "cell_type": "code",
   "execution_count": 10,
   "id": "818fb231-9af3-4449-8f02-900c9a7f205c",
   "metadata": {},
   "outputs": [],
   "source": [
    "import numpy as np\n",
    "import matplotlib.pyplot as plt\n",
    "import cv2"
   ]
  },
  {
   "cell_type": "code",
   "execution_count": 11,
   "id": "f129fb8e-4747-44f8-b343-5201d7d89adb",
   "metadata": {},
   "outputs": [],
   "source": [
    "cap = cv2.VideoCapture(0)\n",
    "classifier = cv2.CascadeClassifier(\"Face-detection/haarcascades_haarcascade_frontalface_default.xml\")    \n",
    "# rgb = cv2.cvtColor(cap, cv2.COLOR_BGR2RGB)"
   ]
  },
  {
   "cell_type": "code",
   "execution_count": 12,
   "id": "f61bbe3e-58ab-487a-bed7-18b0f9a83e46",
   "metadata": {},
   "outputs": [],
   "source": [
    "while True:\n",
    "    \n",
    "    ret, frame = cap.read()\n",
    "    \n",
    "    if ret:\n",
    "        faces = classifier.detectMultiScale(frame)\n",
    "        \n",
    "        for face in faces :\n",
    "            x, y, w, h = face\n",
    "            frame = cv2.rectangle(frame, (x,y), (x+w, y+h), (0, 255, 0), 4)  \n",
    "            \n",
    "        \n",
    "        cv2.imshow(\"my window\", frame)\n",
    "        # plt.imshow(out)      \n",
    "    key = cv2.waitKey(1)\n",
    "    if key == ord(\"q\"):\n",
    "        break\n",
    "cap.release()\n",
    "cv2.destroyAllWindows()"
   ]
  },
  {
   "cell_type": "code",
   "execution_count": 13,
   "id": "6fb9c57a-c8e0-40fb-82d2-cabfe74d705b",
   "metadata": {},
   "outputs": [],
   "source": [
    "# cap.release()\n"
   ]
  },
  {
   "cell_type": "code",
   "execution_count": null,
   "id": "5a3f83be-f8ea-42b0-8130-1c7f45081667",
   "metadata": {},
   "outputs": [],
   "source": []
  }
 ],
 "metadata": {
  "kernelspec": {
   "display_name": "Python 3 (ipykernel)",
   "language": "python",
   "name": "python3"
  },
  "language_info": {
   "codemirror_mode": {
    "name": "ipython",
    "version": 3
   },
   "file_extension": ".py",
   "mimetype": "text/x-python",
   "name": "python",
   "nbconvert_exporter": "python",
   "pygments_lexer": "ipython3",
   "version": "3.10.9"
  }
 },
 "nbformat": 4,
 "nbformat_minor": 5
}
